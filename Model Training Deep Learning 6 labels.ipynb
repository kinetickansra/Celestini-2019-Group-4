{
 "cells": [
  {
   "cell_type": "code",
   "execution_count": 1,
   "metadata": {},
   "outputs": [],
   "source": [
    "import os\n",
    "from tqdm import tqdm\n",
    "from scipy.io import wavfile\n",
    "import numpy as np\n",
    "import pandas as pd\n",
    "import matplotlib.pyplot as plt\n",
    "from python_speech_features import mfcc"
   ]
  },
  {
   "cell_type": "code",
   "execution_count": 2,
   "metadata": {},
   "outputs": [
    {
     "name": "stderr",
     "output_type": "stream",
     "text": [
      "Using TensorFlow backend.\n"
     ]
    }
   ],
   "source": [
    "from keras.models import Sequential\n",
    "from keras.layers import Conv2D, Dropout, Flatten, MaxPool2D, LSTM, TimeDistributed, Dense\n",
    "from keras.utils import to_categorical\n",
    "from sklearn.utils.class_weight import compute_class_weight"
   ]
  },
  {
   "cell_type": "markdown",
   "metadata": {},
   "source": [
    "### Plotting data of clean directory"
   ]
  },
  {
   "cell_type": "code",
   "execution_count": 3,
   "metadata": {},
   "outputs": [
    {
     "data": {
      "image/png": "[encoded data removed]",
      "text/plain": [
       "<Figure size 432x288 with 1 Axes>"
      ]
     },
     "metadata": {},
     "output_type": "display_data"
    }
   ],
   "source": [
    "df=pd.read_csv('./audio2.csv')\n",
    "df.set_index('audiofile', inplace=True)\n",
    "\n",
    "for f in df.index:\n",
    "    rate, signal = wavfile.read('DataClean/'+f)\n",
    "    df.at[f, 'length'] = signal.shape[0]/rate\n",
    "\n",
    "classes = list(np.unique(df.label))\n",
    "class_dist = df.groupby(['label'])['length'].mean()\n",
    "\n",
    "fig, ax = plt.subplots()\n",
    "ax.set_title('Class Distribution', y=1.08)\n",
    "ax.pie(class_dist, labels=class_dist.index, autopct='%1.1f%%',\n",
    "       shadow=False, startangle=90)\n",
    "ax.axis('equal')\n",
    "plt.show()\n"
   ]
  },
  {
   "cell_type": "markdown",
   "metadata": {},
   "source": [
    "### data preparation in form of metrices to feed in Neural Network\n",
    "\n"
   ]
  },
  {
   "cell_type": "code",
   "execution_count": 11,
   "metadata": {},
   "outputs": [
    {
     "name": "stdout",
     "output_type": "stream",
     "text": [
      "37956\n"
     ]
    }
   ],
   "source": [
    "# for taking samples from our audio dataset by dividing length of the total data by 10th of the second chunks|\n",
    "n_samples= 2 * int(df['length'].sum()/0.1)\n",
    "print(n_samples)"
   ]
  },
  {
   "cell_type": "code",
   "execution_count": 6,
   "metadata": {},
   "outputs": [
    {
     "name": "stdout",
     "output_type": "stream",
     "text": [
      "label\n",
      "Conversations    0.105802\n",
      "Gathering        0.230511\n",
      "Multimedia       0.343704\n",
      "Outdoors         0.175186\n",
      "Scream           0.076133\n",
      "SobbandCry       0.068663\n",
      "Name: length, dtype: float64\n"
     ]
    }
   ],
   "source": [
    "prob_dist=class_dist/class_dist.sum()\n",
    "print(prob_dist)"
   ]
  },
  {
   "cell_type": "code",
   "execution_count": 7,
   "metadata": {},
   "outputs": [
    {
     "name": "stdout",
     "output_type": "stream",
     "text": [
      "['Conversations', 'Gathering', 'Multimedia', 'Outdoors', 'Scream', 'SobbandCry']\n"
     ]
    }
   ],
   "source": [
    "choices= np.random.choice(class_dist.index,p=prob_dist)\n",
    "print(classes)"
   ]
  },
  {
   "cell_type": "code",
   "execution_count": 8,
   "metadata": {},
   "outputs": [],
   "source": [
    "#  preparation of X and y metrices to be feeded in our model \n",
    "\n",
    "def build_rand_feat():\n",
    "    X=[]\n",
    "    y=[]\n",
    "    _min,_max= float('inf'), -float('inf')\n",
    "    \n",
    "    for _ in tqdm(range(n_samples)):\n",
    "        \n",
    "        rand_class = np.random.choice(class_dist.index,p=prob_dist)\n",
    "        file = np.random.choice(df[df.label==rand_class].index)\n",
    "        rate, wav = wavfile.read('DataClean/'+file)\n",
    "        label=df.at[file,'label']\n",
    "        rand_index=np.random.randint(0,wav.shape[0]-config.step)\n",
    "        \n",
    "        sample=wav[rand_index:rand_index+config.step]\n",
    "        X_sample=mfcc(sample, rate, nfilt=config.nfilt, numcep=config.nfeat, nfft=config.nfft).T\n",
    "        \n",
    "        _min=min(np.amin(X_sample),_min)\n",
    "        _max=max(np.amax(X_sample),_max)\n",
    "        \n",
    "\n",
    "        X.append(X_sample if config.mode=='conv' else X_sample.T)\n",
    "        y.append(classes.index(label))\n",
    "        \n",
    "    X, y = np.array(X), np.array(y)\n",
    "        \n",
    "    X= (X - _min)/ (_max - _min)\n",
    "        \n",
    "#         print(X.shape)\n",
    "    if config.mode=='conv' :\n",
    "        X=X.reshape(X.shape[0],X.shape[1],X.shape[2],1)\n",
    "    elif config.mode=='time':\n",
    "        X=X.reshape(X.shape[0],X.shape[1],X.shape[2])\n",
    "            \n",
    "    y=to_categorical(y,num_classes=10)\n",
    "        \n",
    "    return X,y\n"
   ]
  },
  {
   "cell_type": "code",
   "execution_count": 9,
   "metadata": {},
   "outputs": [],
   "source": [
    "class Config:\n",
    "    \n",
    "    def __init__(self, mode='conv', nfilt=26, nfeat=13, nfft=512, rate=16000):\n",
    "        self.mode=mode\n",
    "        self.nfilt=nfilt\n",
    "        self.nfeat=nfeat\n",
    "        self.nfft=nfft\n",
    "        self.rate=rate\n",
    "        self.step= int(rate/10)"
   ]
  },
  {
   "cell_type": "markdown",
   "metadata": {},
   "source": [
    "###  CNN"
   ]
  },
  {
   "cell_type": "code",
   "execution_count": 18,
   "metadata": {},
   "outputs": [],
   "source": [
    "config = Config(mode='conv')"
   ]
  },
  {
   "cell_type": "code",
   "execution_count": 17,
   "metadata": {},
   "outputs": [],
   "source": [
    "def  get_conv_model():\n",
    "    \n",
    "    model=Sequential()\n",
    "    model.add(Conv2D(16,(3,3),activation='relu',strides=(1,1), padding='same',input_shape=input_shape))\n",
    "    model.add(Conv2D(32,(3,3),activation='relu',strides=(1,1), padding='same'))\n",
    "    model.add(Conv2D(64,(3,3),activation='relu',strides=(1,1), padding='same'))\n",
    "    model.add(Conv2D(128,(3,3),activation='relu',strides=(1,1), padding='same'))\n",
    "    model.add(MaxPool2D((2,2)))\n",
    "    model.add(Dropout(0.5))\n",
    "    model.add(Flatten())\n",
    "    model.add(Dense(128,activation='relu'))\n",
    "    model.add(Dense(64,activation='relu'))\n",
    "    model.add(Dense(10,activation='softmax'))\n",
    "    model.summary()\n",
    "    model.compile(loss='categorical_crossentropy',optimizer='adam',metrics=['acc'])\n",
    "    \n",
    "    return model\n",
    "    \n",
    "    "
   ]
  },
  {
   "cell_type": "code",
   "execution_count": 13,
   "metadata": {},
   "outputs": [],
   "source": [
    "def get_recurrent_model():\n",
    "    \n",
    "#     shape of data for RNN is (n,time,feat)\n",
    "    \n",
    "    model=Sequential()\n",
    "    model.add(LSTM(128,return_sequences=True,input_shape=input_shape))\n",
    "    model.add(LSTM(128,return_sequences=True))\n",
    "    model.add(Dropout(0.5))\n",
    "    model.add(TimeDistributed(Dense(64,activation='relu')))\n",
    "    model.add(TimeDistributed(Dense(32,activation='relu')))\n",
    "    model.add(TimeDistributed(Dense(16,activation='relu')))\n",
    "    model.add(TimeDistributed(Dense(8,activation='relu')))\n",
    "    model.add(Flatten())\n",
    "    model.add(Dense(10,activation='softmax'))\n",
    "    model.summary()\n",
    "    model.compile(loss='categorical_crossentropy', optimizer='adam',metrics=['acc'])\n",
    "    return model"
   ]
  },
  {
   "cell_type": "code",
   "execution_count": 19,
   "metadata": {},
   "outputs": [
    {
     "name": "stderr",
     "output_type": "stream",
     "text": [
      "100%|██████████| 37956/37956 [01:26<00:00, 436.59it/s]\n"
     ]
    },
    {
     "name": "stdout",
     "output_type": "stream",
     "text": [
      "_________________________________________________________________\n",
      "Layer (type)                 Output Shape              Param #   \n",
      "=================================================================\n",
      "conv2d_1 (Conv2D)            (None, 13, 9, 16)         160       \n",
      "_________________________________________________________________\n",
      "conv2d_2 (Conv2D)            (None, 13, 9, 32)         4640      \n",
      "_________________________________________________________________\n",
      "conv2d_3 (Conv2D)            (None, 13, 9, 64)         18496     \n",
      "_________________________________________________________________\n",
      "conv2d_4 (Conv2D)            (None, 13, 9, 128)        73856     \n",
      "_________________________________________________________________\n",
      "max_pooling2d_1 (MaxPooling2 (None, 6, 4, 128)         0         \n",
      "_________________________________________________________________\n",
      "dropout_2 (Dropout)          (None, 6, 4, 128)         0         \n",
      "_________________________________________________________________\n",
      "flatten_2 (Flatten)          (None, 3072)              0         \n",
      "_________________________________________________________________\n",
      "dense_6 (Dense)              (None, 128)               393344    \n",
      "_________________________________________________________________\n",
      "dense_7 (Dense)              (None, 64)                8256      \n",
      "_________________________________________________________________\n",
      "dense_8 (Dense)              (None, 10)                650       \n",
      "=================================================================\n",
      "Total params: 499,402\n",
      "Trainable params: 499,402\n",
      "Non-trainable params: 0\n",
      "_________________________________________________________________\n"
     ]
    }
   ],
   "source": [
    "if config.mode == 'conv':\n",
    "    x,y= build_rand_feat()\n",
    "    y_flat=np.argmax(y,axis=1)\n",
    "    input_shape=(x.shape[1],x.shape[2],1)\n",
    "    model=get_conv_model()\n",
    "    \n",
    "elif config.mode == 'time':\n",
    "    x,y= build_rand_feat()\n",
    "    y_flat=np.argmax(y,axis=1)\n",
    "    input_shape=(x.shape[1],x.shape[2])\n",
    "    model=get_recurrent_model()"
   ]
  },
  {
   "cell_type": "code",
   "execution_count": 20,
   "metadata": {},
   "outputs": [],
   "source": [
    "class_weight = compute_class_weight('balanced',np.unique(y_flat),y_flat)"
   ]
  },
  {
   "cell_type": "code",
   "execution_count": 21,
   "metadata": {},
   "outputs": [
    {
     "name": "stdout",
     "output_type": "stream",
     "text": [
      "Epoch 1/5\n",
      "37956/37956 [==============================] - 74s 2ms/step - loss: 0.5026 - acc: 0.8192\n",
      "Epoch 2/5\n",
      "37956/37956 [==============================] - 71s 2ms/step - loss: 0.2991 - acc: 0.8953\n",
      "Epoch 3/5\n",
      "37956/37956 [==============================] - 78s 2ms/step - loss: 0.2442 - acc: 0.9156\n",
      "Epoch 4/5\n",
      "37956/37956 [==============================] - 82s 2ms/step - loss: 0.2094 - acc: 0.9285\n",
      "Epoch 5/5\n",
      "37956/37956 [==============================] - 82s 2ms/step - loss: 0.1796 - acc: 0.9377\n"
     ]
    },
    {
     "data": {
      "text/plain": [
       "<keras.callbacks.History at 0x7fdb52b38240>"
      ]
     },
     "execution_count": 21,
     "metadata": {},
     "output_type": "execute_result"
    }
   ],
   "source": [
    "model.fit(x,y,epochs=5,batch_size=32,shuffle=True,class_weight=class_weight)"
   ]
  },
  {
   "cell_type": "markdown",
   "metadata": {},
   "source": [
    "### RNN"
   ]
  },
  {
   "cell_type": "code",
   "execution_count": 14,
   "metadata": {},
   "outputs": [
    {
     "name": "stderr",
     "output_type": "stream",
     "text": [
      "100%|██████████| 37956/37956 [01:18<00:00, 486.34it/s]\n"
     ]
    },
    {
     "name": "stdout",
     "output_type": "stream",
     "text": [
      "_________________________________________________________________\n",
      "Layer (type)                 Output Shape              Param #   \n",
      "=================================================================\n",
      "lstm_1 (LSTM)                (None, 9, 128)            72704     \n",
      "_________________________________________________________________\n",
      "lstm_2 (LSTM)                (None, 9, 128)            131584    \n",
      "_________________________________________________________________\n",
      "dropout_1 (Dropout)          (None, 9, 128)            0         \n",
      "_________________________________________________________________\n",
      "time_distributed_1 (TimeDist (None, 9, 64)             8256      \n",
      "_________________________________________________________________\n",
      "time_distributed_2 (TimeDist (None, 9, 32)             2080      \n",
      "_________________________________________________________________\n",
      "time_distributed_3 (TimeDist (None, 9, 16)             528       \n",
      "_________________________________________________________________\n",
      "time_distributed_4 (TimeDist (None, 9, 8)              136       \n",
      "_________________________________________________________________\n",
      "flatten_1 (Flatten)          (None, 72)                0         \n",
      "_________________________________________________________________\n",
      "dense_5 (Dense)              (None, 10)                730       \n",
      "=================================================================\n",
      "Total params: 216,018\n",
      "Trainable params: 216,018\n",
      "Non-trainable params: 0\n",
      "_________________________________________________________________\n"
     ]
    }
   ],
   "source": [
    "config = Config(mode='time')\n",
    "if config.mode == 'conv':\n",
    "    x,y= build_rand_feat()\n",
    "    y_flat=np.argmax(y,axis=1)\n",
    "    input_shape=(x.shape[1],x.shape[2],1)\n",
    "    model=get_conv_model()\n",
    "    \n",
    "elif config.mode == 'time':\n",
    "    x,y= build_rand_feat()\n",
    "    y_flat=np.argmax(y,axis=1)\n",
    "    input_shape=(x.shape[1],x.shape[2])\n",
    "    model=get_recurrent_model()"
   ]
  },
  {
   "cell_type": "code",
   "execution_count": 15,
   "metadata": {},
   "outputs": [],
   "source": [
    "class_weight = compute_class_weight('balanced',np.unique(y_flat),y_flat)"
   ]
  },
  {
   "cell_type": "code",
   "execution_count": 16,
   "metadata": {},
   "outputs": [
    {
     "name": "stdout",
     "output_type": "stream",
     "text": [
      "Epoch 1/5\n",
      "37956/37956 [==============================] - 29s 762us/step - loss: 0.8897 - acc: 0.6739\n",
      "Epoch 2/5\n",
      "37956/37956 [==============================] - 27s 702us/step - loss: 0.5572 - acc: 0.7988\n",
      "Epoch 3/5\n",
      "37956/37956 [==============================] - 27s 708us/step - loss: 0.4674 - acc: 0.8357\n",
      "Epoch 4/5\n",
      "37956/37956 [==============================] - 25s 669us/step - loss: 0.4109 - acc: 0.8575\n",
      "Epoch 5/5\n",
      "37956/37956 [==============================] - 27s 711us/step - loss: 0.3756 - acc: 0.8692\n"
     ]
    },
    {
     "data": {
      "text/plain": [
       "<keras.callbacks.History at 0x7fdb6147e438>"
      ]
     },
     "execution_count": 16,
     "metadata": {},
     "output_type": "execute_result"
    }
   ],
   "source": [
    "model.fit(x,y,epochs=5,batch_size=32,shuffle=True,class_weight=class_weight)"
   ]
  },
  {
   "cell_type": "code",
   "execution_count": null,
   "metadata": {},
   "outputs": [],
   "source": []
  }
 ],
 "metadata": {
  "kernelspec": {
   "display_name": "Python 3",
   "language": "python",
   "name": "python3"
  },
  "language_info": {
   "codemirror_mode": {
    "name": "ipython",
    "version": 3
   },
   "file_extension": ".py",
   "mimetype": "text/x-python",
   "name": "python",
   "nbconvert_exporter": "python",
   "pygments_lexer": "ipython3",
   "version": "3.6.7"
  }
 },
 "nbformat": 4,
 "nbformat_minor": 2
}
